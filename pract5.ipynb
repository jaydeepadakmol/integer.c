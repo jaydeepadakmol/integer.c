{
  "nbformat": 4,
  "nbformat_minor": 0,
  "metadata": {
    "colab": {
      "name": "pract5.ipynb",
      "provenance": [],
      "collapsed_sections": []
    },
    "kernelspec": {
      "name": "python3",
      "display_name": "Python 3"
    },
    "language_info": {
      "name": "python"
    }
  },
  "cells": [
    {
      "cell_type": "markdown",
      "source": [
        "Apriori Algorithm implementation in case study."
      ],
      "metadata": {
        "id": "WNwkbORJ_8Ab"
      }
    },
    {
      "cell_type": "code",
      "execution_count": null,
      "metadata": {
        "id": "dqwtwlHn2d_C"
      },
      "outputs": [],
      "source": [
        "Minimum Support = 50%\n",
        "Minimum Confidence = 70%\n",
        "\n",
        "Itemset ={ Bread, Chicken, Butter, Milk, Toast}\n",
        "Transaction ID Items\n",
        "100 {Bread, Butter, Milk}\n",
        "200 {Chicken, Butter, Toast}\n",
        "300 {Bread, Chicken, Butter, Toast}\n",
        "400 {Chicken, Toast}\n",
        "\n",
        "Item Support\n",
        "Bread 2 /4 = 0.5 = 50%\n",
        "Chicken 3 /4 = 0.5 = 75%\n",
        "Butter 3 /4 = 0.75 = 75%\n",
        "Milk 1/4 = 0.25 = 25%\n",
        "Toast 3/4 = 0.75 = 75%\n",
        "\n",
        "Itemset = { Bread, Chicken , Butter, Toast}\n",
        "Item Support\n",
        "{Bread, Chicken} ¼ = 0.25 =25%\n",
        "{Bread, Butter} 2/4 =0.50 = 50%\n",
        "{Bread, Toast} ¼ = 0.25 = 25%\n",
        "{Chicken, Butter} 2/4 = 0.50 = 50 %\n",
        "{Chicken, Toast} ¾ = 0.75 = 75%\n",
        "{Butter, Toast} 2/4 = 0.50 = 50%\n",
        "\n",
        "Itemset = ({Bread, Butter}, {Chicken, Butter} , {Chicken, Toast}, {Butter, Toast})\n",
        "Item Support\n",
        "{Bread, Butter, Toast} 1/ 4 = 0.25 = 25%\n",
        "{Chicken, Butter, Toast} 2/4 =0.50 = 50 %\n",
        "{Bread, Butter, Chicken} ¼ = 0.25 = 25%\n",
        "\n",
        "Minimum Support = 50%\n",
        "Minimum Confidence = 70%\n",
        "Final Resultant Set based on Support = {Chicken, Butter, Toast}\n",
        "Rules\n",
        "1 . (Chicken &amp; Butter ) - &gt; Toast 2 (50%)\n",
        "2. (Butter &amp; Toast) -&gt; Chicken 2 (50%)\n",
        "3. (Chicken &amp; Toast) -&gt; Butter 2 (50%)\n",
        "4. Chicken - &gt; (Butter &amp; Toast) 2 (50%)\n",
        "5. Toast -&gt; (Chicken &amp; Butter) 2 (50%)\n",
        "6. Butter -&gt; (Chicken &amp; Toast) 2 (50%)\n",
        "\n",
        "Confidence = S(A U B).count / S(A).count\n",
        "1 . (Chicken &amp; Butter ) - &gt; Toast 2 (50%)\n",
        "S((Chicken &amp;Butter) U (Toast))/ S(Chicken &amp; Butter)\n",
        "=2 / 2 = 1 = 100%\n",
        "2. . (Butter &amp; Toast) -&gt; Chicken\n",
        "Confidence = S(A U B).count / S(A).count\n",
        "S((Butter &amp; Toast) U Chicken)) /S(Butter &amp; Toast)\n",
        "=2 / 2 = 1 = 100%\n",
        "3. (Chicken &amp; Toast) -&gt; Butter 2 (50%)\n",
        "Confidence = S(A U B).count / S(A).count\n",
        "S((Chicken &amp; Toast) U (Butter))/S(Chicken &amp; Toast)\n",
        "=2/3 = 0.666 = 67%\n",
        "4. Chicken - &gt; (Butter &amp; Toast) 2 (50%)\n",
        "Confidence = S(A U B).count / S(A).count\n",
        "S((Chicken) U (Butter &amp; Toast))/S(Chicken)\n",
        "=2/3 = 0.666 = 67%\n",
        "\n",
        "Minimum Support = 50%\n",
        "Minimum Confidence = 70%\n",
        "\n",
        "5. Toast -&gt; (Chicken &amp; Butter) 2 (50%)\n",
        "Confidence = S(A U B).count / S(A).count\n",
        "S((Toast) U (Chicken &amp; Butter))/S(Toast)\n",
        "=2/3 = 0.666 = 67%\n",
        "6. Butter -&gt; (Chicken &amp; Toast) 2 (50%)\n",
        "Confidence = S(A U B).count / S(A).count\n",
        "S((Butter) U (Chicken &amp; Toast))/S(Butter)\n",
        "=2/3 = 0.666 = 67%\n",
        "\n",
        "Final Associated Items rules are\n",
        "1 . (Chicken &amp; Butter ) - &gt; Toast 2 (50%)\n",
        "2. (Butter &amp; Toast) -&gt; Chicken 2 (50%"
      ]
    }
  ]
}