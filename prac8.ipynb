{
  "nbformat": 4,
  "nbformat_minor": 0,
  "metadata": {
    "colab": {
      "name": "prac8.ipynb",
      "provenance": [],
      "collapsed_sections": []
    },
    "kernelspec": {
      "name": "python3",
      "display_name": "Python 3"
    },
    "language_info": {
      "name": "python"
    }
  },
  "cells": [
    {
      "cell_type": "markdown",
      "source": [
        "Sentiment analysis for reviews by customers and visualize the same."
      ],
      "metadata": {
        "id": "hazfxrqPAcPB"
      }
    },
    {
      "cell_type": "code",
      "execution_count": null,
      "metadata": {
        "colab": {
          "base_uri": "https://localhost:8080/"
        },
        "id": "-3T2JUsD6dBF",
        "outputId": "f3f9c57b-0cc2-43e8-f29b-3950f0a92331"
      },
      "outputs": [
        {
          "output_type": "stream",
          "name": "stdout",
          "text": [
            "Looking in indexes: https://pypi.org/simple, https://us-python.pkg.dev/colab-wheels/public/simple/\n",
            "Requirement already satisfied: matplotlib in /usr/local/lib/python3.7/dist-packages (3.2.2)\n",
            "Requirement already satisfied: pandas in /usr/local/lib/python3.7/dist-packages (1.3.5)\n",
            "Requirement already satisfied: nltk in /usr/local/lib/python3.7/dist-packages (3.2.5)\n",
            "Requirement already satisfied: textblob in /usr/local/lib/python3.7/dist-packages (0.15.3)\n",
            "Requirement already satisfied: python-dateutil>=2.1 in /usr/local/lib/python3.7/dist-packages (from matplotlib) (2.8.2)\n",
            "Requirement already satisfied: cycler>=0.10 in /usr/local/lib/python3.7/dist-packages (from matplotlib) (0.11.0)\n",
            "Requirement already satisfied: pyparsing!=2.0.4,!=2.1.2,!=2.1.6,>=2.0.1 in /usr/local/lib/python3.7/dist-packages (from matplotlib) (3.0.9)\n",
            "Requirement already satisfied: kiwisolver>=1.0.1 in /usr/local/lib/python3.7/dist-packages (from matplotlib) (1.4.2)\n",
            "Requirement already satisfied: numpy>=1.11 in /usr/local/lib/python3.7/dist-packages (from matplotlib) (1.21.6)\n",
            "Requirement already satisfied: typing-extensions in /usr/local/lib/python3.7/dist-packages (from kiwisolver>=1.0.1->matplotlib) (4.2.0)\n",
            "Requirement already satisfied: six>=1.5 in /usr/local/lib/python3.7/dist-packages (from python-dateutil>=2.1->matplotlib) (1.15.0)\n",
            "Requirement already satisfied: pytz>=2017.3 in /usr/local/lib/python3.7/dist-packages (from pandas) (2022.1)\n"
          ]
        }
      ],
      "source": [
        "pip install matplotlib pandas nltk textblob "
      ]
    },
    {
      "cell_type": "code",
      "source": [
        "import nltk\n",
        "nltk.download('vader_lexicon')\n",
        "nltk.download('movie_reviews')\n",
        "nltk.download('punkt')"
      ],
      "metadata": {
        "colab": {
          "base_uri": "https://localhost:8080/"
        },
        "id": "e6WXqzBe6tBU",
        "outputId": "1dfca586-8fc0-4353-847f-1ed1e78ec7ce"
      },
      "execution_count": null,
      "outputs": [
        {
          "output_type": "stream",
          "name": "stdout",
          "text": [
            "[nltk_data] Downloading package vader_lexicon to /root/nltk_data...\n",
            "[nltk_data] Downloading package movie_reviews to /root/nltk_data...\n",
            "[nltk_data]   Unzipping corpora/movie_reviews.zip.\n",
            "[nltk_data] Downloading package punkt to /root/nltk_data...\n",
            "[nltk_data]   Unzipping tokenizers/punkt.zip.\n"
          ]
        },
        {
          "output_type": "execute_result",
          "data": {
            "text/plain": [
              "True"
            ]
          },
          "metadata": {},
          "execution_count": 2
        }
      ]
    },
    {
      "cell_type": "code",
      "source": [
        "from nltk.sentiment.vader import SentimentIntensityAnalyzer as SIA"
      ],
      "metadata": {
        "colab": {
          "base_uri": "https://localhost:8080/"
        },
        "id": "3ATeUBWi6z16",
        "outputId": "faf342bd-f199-4d72-b0c1-c274e5a81417"
      },
      "execution_count": null,
      "outputs": [
        {
          "output_type": "stream",
          "name": "stderr",
          "text": [
            "/usr/local/lib/python3.7/dist-packages/nltk/twitter/__init__.py:20: UserWarning: The twython library has not been installed. Some functionality from the twitter package will not be available.\n",
            "  warnings.warn(\"The twython library has not been installed. \"\n"
          ]
        }
      ]
    },
    {
      "cell_type": "code",
      "source": [
        "sia = SIA()\n",
        "sia.polarity_scores(\"This restaurant was great, but I'm not sure if I'll go there again.\")"
      ],
      "metadata": {
        "colab": {
          "base_uri": "https://localhost:8080/"
        },
        "id": "sPvsIqhu61v3",
        "outputId": "442edee9-4760-414a-83d8-1f327431951c"
      },
      "execution_count": null,
      "outputs": [
        {
          "output_type": "execute_result",
          "data": {
            "text/plain": [
              "{'compound': 0.0276, 'neg': 0.153, 'neu': 0.688, 'pos': 0.159}"
            ]
          },
          "metadata": {},
          "execution_count": 4
        }
      ]
    },
    {
      "cell_type": "code",
      "source": [
        "text = \"I just got a call from my boss - does he realise it's Saturday?\"\n",
        "sia.polarity_scores(text)"
      ],
      "metadata": {
        "colab": {
          "base_uri": "https://localhost:8080/"
        },
        "id": "M0rfqlw568Mi",
        "outputId": "5b875127-8775-4e47-c44e-72daef296778"
      },
      "execution_count": null,
      "outputs": [
        {
          "output_type": "execute_result",
          "data": {
            "text/plain": [
              "{'compound': 0.0, 'neg': 0.0, 'neu': 1.0, 'pos': 0.0}"
            ]
          },
          "metadata": {},
          "execution_count": 5
        }
      ]
    },
    {
      "cell_type": "code",
      "source": [
        "text = \"I just got a call from my boss - does he realise it's Saturday? :)\"\n",
        "sia.polarity_scores(text)"
      ],
      "metadata": {
        "colab": {
          "base_uri": "https://localhost:8080/"
        },
        "id": "FfPDzaQU7AFU",
        "outputId": "ab597967-f233-4299-fad5-d55b827f82df"
      },
      "execution_count": null,
      "outputs": [
        {
          "output_type": "execute_result",
          "data": {
            "text/plain": [
              "{'compound': 0.4588, 'neg': 0.0, 'neu': 0.786, 'pos': 0.214}"
            ]
          },
          "metadata": {},
          "execution_count": 6
        }
      ]
    },
    {
      "cell_type": "code",
      "source": [
        "text = \"I just got a call from my boss - does he realise it's Saturday? 😊\"\n",
        "sia.polarity_scores(text)"
      ],
      "metadata": {
        "colab": {
          "base_uri": "https://localhost:8080/"
        },
        "id": "0jRRX2_R7FZe",
        "outputId": "fa547fb3-b38a-41f6-b634-2e9c75d52193"
      },
      "execution_count": null,
      "outputs": [
        {
          "output_type": "execute_result",
          "data": {
            "text/plain": [
              "{'compound': 0.0, 'neg': 0.0, 'neu': 1.0, 'pos': 0.0}"
            ]
          },
          "metadata": {},
          "execution_count": 7
        }
      ]
    },
    {
      "cell_type": "code",
      "source": [
        "from textblob import TextBlob\n",
        "from textblob import Blobber\n",
        "from textblob.sentiments import NaiveBayesAnalyzer"
      ],
      "metadata": {
        "id": "T5959-F07HlU"
      },
      "execution_count": null,
      "outputs": []
    },
    {
      "cell_type": "code",
      "source": [
        "blob = TextBlob(\"This restaurant was great, but I'm not sure if I'll go there again.\")\n",
        "blob.sentiment"
      ],
      "metadata": {
        "colab": {
          "base_uri": "https://localhost:8080/"
        },
        "id": "VaeIvY9Z7Kay",
        "outputId": "9fc08918-37ee-407b-acbc-642efae6f9ca"
      },
      "execution_count": null,
      "outputs": [
        {
          "output_type": "execute_result",
          "data": {
            "text/plain": [
              "Sentiment(polarity=0.275, subjectivity=0.8194444444444444)"
            ]
          },
          "metadata": {},
          "execution_count": 9
        }
      ]
    },
    {
      "cell_type": "code",
      "source": [
        "blobber = Blobber(analyzer=NaiveBayesAnalyzer())\n",
        "\n",
        "blob = blobber(\"This restaurant was great, but I'm not sure if I'll go there again.\")\n",
        "blob.sentiment"
      ],
      "metadata": {
        "colab": {
          "base_uri": "https://localhost:8080/"
        },
        "id": "uUEc6o3y7Nv3",
        "outputId": "55a621c9-2a28-43b5-b6b1-736f8edf1fe9"
      },
      "execution_count": null,
      "outputs": [
        {
          "output_type": "execute_result",
          "data": {
            "text/plain": [
              "Sentiment(classification='pos', p_pos=0.5879425317005774, p_neg=0.41205746829942275)"
            ]
          },
          "metadata": {},
          "execution_count": 10
        }
      ]
    },
    {
      "cell_type": "code",
      "source": [
        "import pandas as pd\n",
        "pd.set_option(\"display.max_colwidth\", 200)"
      ],
      "metadata": {
        "id": "EKDsVpOj7QLW"
      },
      "execution_count": null,
      "outputs": []
    },
    {
      "cell_type": "code",
      "source": [
        "df = pd.DataFrame({'content': [\n",
        "    \"I love love love love this kitten\",\n",
        "    \"I hate hate hate hate this keyboard\",\n",
        "    \"I'm not sure how I feel about toast\",\n",
        "    \"Did you see the baseball game yesterday?\",\n",
        "    \"The package was delivered late and the contents were broken\",\n",
        "    \"Trashy television shows are some of my favorites\",\n",
        "    \"I'm seeing a Kubrick film tomorrow, I hear not so great things about it.\",\n",
        "    \"I find chirping birds iritating, but I know I'm not the only one\",\n",
        "]})\n",
        "df"
      ],
      "metadata": {
        "colab": {
          "base_uri": "https://localhost:8080/",
          "height": 300
        },
        "id": "7T_WfyWc7UTs",
        "outputId": "a0b8d485-b841-4669-f225-97de85e97fe1"
      },
      "execution_count": null,
      "outputs": [
        {
          "output_type": "execute_result",
          "data": {
            "text/plain": [
              "                                                                    content\n",
              "0                                         I love love love love this kitten\n",
              "1                                       I hate hate hate hate this keyboard\n",
              "2                                       I'm not sure how I feel about toast\n",
              "3                                  Did you see the baseball game yesterday?\n",
              "4               The package was delivered late and the contents were broken\n",
              "5                          Trashy television shows are some of my favorites\n",
              "6  I'm seeing a Kubrick film tomorrow, I hear not so great things about it.\n",
              "7          I find chirping birds iritating, but I know I'm not the only one"
            ],
            "text/html": [
              "\n",
              "  <div id=\"df-8ce71482-f9c7-4042-be5c-ab2161620185\">\n",
              "    <div class=\"colab-df-container\">\n",
              "      <div>\n",
              "<style scoped>\n",
              "    .dataframe tbody tr th:only-of-type {\n",
              "        vertical-align: middle;\n",
              "    }\n",
              "\n",
              "    .dataframe tbody tr th {\n",
              "        vertical-align: top;\n",
              "    }\n",
              "\n",
              "    .dataframe thead th {\n",
              "        text-align: right;\n",
              "    }\n",
              "</style>\n",
              "<table border=\"1\" class=\"dataframe\">\n",
              "  <thead>\n",
              "    <tr style=\"text-align: right;\">\n",
              "      <th></th>\n",
              "      <th>content</th>\n",
              "    </tr>\n",
              "  </thead>\n",
              "  <tbody>\n",
              "    <tr>\n",
              "      <th>0</th>\n",
              "      <td>I love love love love this kitten</td>\n",
              "    </tr>\n",
              "    <tr>\n",
              "      <th>1</th>\n",
              "      <td>I hate hate hate hate this keyboard</td>\n",
              "    </tr>\n",
              "    <tr>\n",
              "      <th>2</th>\n",
              "      <td>I'm not sure how I feel about toast</td>\n",
              "    </tr>\n",
              "    <tr>\n",
              "      <th>3</th>\n",
              "      <td>Did you see the baseball game yesterday?</td>\n",
              "    </tr>\n",
              "    <tr>\n",
              "      <th>4</th>\n",
              "      <td>The package was delivered late and the contents were broken</td>\n",
              "    </tr>\n",
              "    <tr>\n",
              "      <th>5</th>\n",
              "      <td>Trashy television shows are some of my favorites</td>\n",
              "    </tr>\n",
              "    <tr>\n",
              "      <th>6</th>\n",
              "      <td>I'm seeing a Kubrick film tomorrow, I hear not so great things about it.</td>\n",
              "    </tr>\n",
              "    <tr>\n",
              "      <th>7</th>\n",
              "      <td>I find chirping birds iritating, but I know I'm not the only one</td>\n",
              "    </tr>\n",
              "  </tbody>\n",
              "</table>\n",
              "</div>\n",
              "      <button class=\"colab-df-convert\" onclick=\"convertToInteractive('df-8ce71482-f9c7-4042-be5c-ab2161620185')\"\n",
              "              title=\"Convert this dataframe to an interactive table.\"\n",
              "              style=\"display:none;\">\n",
              "        \n",
              "  <svg xmlns=\"http://www.w3.org/2000/svg\" height=\"24px\"viewBox=\"0 0 24 24\"\n",
              "       width=\"24px\">\n",
              "    <path d=\"M0 0h24v24H0V0z\" fill=\"none\"/>\n",
              "    <path d=\"M18.56 5.44l.94 2.06.94-2.06 2.06-.94-2.06-.94-.94-2.06-.94 2.06-2.06.94zm-11 1L8.5 8.5l.94-2.06 2.06-.94-2.06-.94L8.5 2.5l-.94 2.06-2.06.94zm10 10l.94 2.06.94-2.06 2.06-.94-2.06-.94-.94-2.06-.94 2.06-2.06.94z\"/><path d=\"M17.41 7.96l-1.37-1.37c-.4-.4-.92-.59-1.43-.59-.52 0-1.04.2-1.43.59L10.3 9.45l-7.72 7.72c-.78.78-.78 2.05 0 2.83L4 21.41c.39.39.9.59 1.41.59.51 0 1.02-.2 1.41-.59l7.78-7.78 2.81-2.81c.8-.78.8-2.07 0-2.86zM5.41 20L4 18.59l7.72-7.72 1.47 1.35L5.41 20z\"/>\n",
              "  </svg>\n",
              "      </button>\n",
              "      \n",
              "  <style>\n",
              "    .colab-df-container {\n",
              "      display:flex;\n",
              "      flex-wrap:wrap;\n",
              "      gap: 12px;\n",
              "    }\n",
              "\n",
              "    .colab-df-convert {\n",
              "      background-color: #E8F0FE;\n",
              "      border: none;\n",
              "      border-radius: 50%;\n",
              "      cursor: pointer;\n",
              "      display: none;\n",
              "      fill: #1967D2;\n",
              "      height: 32px;\n",
              "      padding: 0 0 0 0;\n",
              "      width: 32px;\n",
              "    }\n",
              "\n",
              "    .colab-df-convert:hover {\n",
              "      background-color: #E2EBFA;\n",
              "      box-shadow: 0px 1px 2px rgba(60, 64, 67, 0.3), 0px 1px 3px 1px rgba(60, 64, 67, 0.15);\n",
              "      fill: #174EA6;\n",
              "    }\n",
              "\n",
              "    [theme=dark] .colab-df-convert {\n",
              "      background-color: #3B4455;\n",
              "      fill: #D2E3FC;\n",
              "    }\n",
              "\n",
              "    [theme=dark] .colab-df-convert:hover {\n",
              "      background-color: #434B5C;\n",
              "      box-shadow: 0px 1px 3px 1px rgba(0, 0, 0, 0.15);\n",
              "      filter: drop-shadow(0px 1px 2px rgba(0, 0, 0, 0.3));\n",
              "      fill: #FFFFFF;\n",
              "    }\n",
              "  </style>\n",
              "\n",
              "      <script>\n",
              "        const buttonEl =\n",
              "          document.querySelector('#df-8ce71482-f9c7-4042-be5c-ab2161620185 button.colab-df-convert');\n",
              "        buttonEl.style.display =\n",
              "          google.colab.kernel.accessAllowed ? 'block' : 'none';\n",
              "\n",
              "        async function convertToInteractive(key) {\n",
              "          const element = document.querySelector('#df-8ce71482-f9c7-4042-be5c-ab2161620185');\n",
              "          const dataTable =\n",
              "            await google.colab.kernel.invokeFunction('convertToInteractive',\n",
              "                                                     [key], {});\n",
              "          if (!dataTable) return;\n",
              "\n",
              "          const docLinkHtml = 'Like what you see? Visit the ' +\n",
              "            '<a target=\"_blank\" href=https://colab.research.google.com/notebooks/data_table.ipynb>data table notebook</a>'\n",
              "            + ' to learn more about interactive tables.';\n",
              "          element.innerHTML = '';\n",
              "          dataTable['output_type'] = 'display_data';\n",
              "          await google.colab.output.renderOutput(dataTable, element);\n",
              "          const docLink = document.createElement('div');\n",
              "          docLink.innerHTML = docLinkHtml;\n",
              "          element.appendChild(docLink);\n",
              "        }\n",
              "      </script>\n",
              "    </div>\n",
              "  </div>\n",
              "  "
            ]
          },
          "metadata": {},
          "execution_count": 12
        }
      ]
    },
    {
      "cell_type": "code",
      "source": [
        "def get_scores(content):\n",
        "  blob = TextBlob(content)\n",
        "  nb_blob = blobber(content)\n",
        "  sia_scores = sia.polarity_scores(content)\n",
        "  return pd.Series({\n",
        "        'content': content,\n",
        "        'textblob': blob.sentiment.polarity,\n",
        "        'textblob_bayes': nb_blob.sentiment.p_pos - nb_blob.sentiment.p_neg,\n",
        "        'nltk': sia_scores['compound'],\n",
        "    })"
      ],
      "metadata": {
        "id": "NiwQn8407ZU5"
      },
      "execution_count": null,
      "outputs": []
    },
    {
      "cell_type": "code",
      "source": [
        "scores = df.content.apply(get_scores)\n",
        "scores.style.background_gradient(cmap='RdYlGn', axis=None, low=0.4, high=0.4)"
      ],
      "metadata": {
        "colab": {
          "base_uri": "https://localhost:8080/",
          "height": 352
        },
        "id": "G_eKwIGc7cbJ",
        "outputId": "74641406-1c06-443e-9b65-2835ea0308b3"
      },
      "execution_count": null,
      "outputs": [
        {
          "output_type": "execute_result",
          "data": {
            "text/plain": [
              "<pandas.io.formats.style.Styler at 0x7f0a790afdd0>"
            ],
            "text/html": [
              "<style type=\"text/css\">\n",
              "#T_5aa04_row0_col1 {\n",
              "  background-color: #c3e67d;\n",
              "  color: #000000;\n",
              "}\n",
              "#T_5aa04_row0_col2 {\n",
              "  background-color: #fff6b0;\n",
              "  color: #000000;\n",
              "}\n",
              "#T_5aa04_row0_col3 {\n",
              "  background-color: #73c264;\n",
              "  color: #000000;\n",
              "}\n",
              "#T_5aa04_row1_col1 {\n",
              "  background-color: #fa9656;\n",
              "  color: #000000;\n",
              "}\n",
              "#T_5aa04_row1_col2 {\n",
              "  background-color: #feeb9d;\n",
              "  color: #000000;\n",
              "}\n",
              "#T_5aa04_row1_col3 {\n",
              "  background-color: #f67a49;\n",
              "  color: #f1f1f1;\n",
              "}\n",
              "#T_5aa04_row2_col1 {\n",
              "  background-color: #fee797;\n",
              "  color: #000000;\n",
              "}\n",
              "#T_5aa04_row2_col2 {\n",
              "  background-color: #d3ec87;\n",
              "  color: #000000;\n",
              "}\n",
              "#T_5aa04_row2_col3 {\n",
              "  background-color: #fee999;\n",
              "  color: #000000;\n",
              "}\n",
              "#T_5aa04_row3_col1 {\n",
              "  background-color: #fed683;\n",
              "  color: #000000;\n",
              "}\n",
              "#T_5aa04_row3_col2 {\n",
              "  background-color: #b1de71;\n",
              "  color: #000000;\n",
              "}\n",
              "#T_5aa04_row3_col3, #T_5aa04_row5_col1, #T_5aa04_row7_col1, #T_5aa04_row7_col3 {\n",
              "  background-color: #fffebe;\n",
              "  color: #000000;\n",
              "}\n",
              "#T_5aa04_row4_col1 {\n",
              "  background-color: #fede89;\n",
              "  color: #000000;\n",
              "}\n",
              "#T_5aa04_row4_col2 {\n",
              "  background-color: #fdbd6d;\n",
              "  color: #000000;\n",
              "}\n",
              "#T_5aa04_row4_col3 {\n",
              "  background-color: #feca79;\n",
              "  color: #000000;\n",
              "}\n",
              "#T_5aa04_row5_col2 {\n",
              "  background-color: #fbfdba;\n",
              "  color: #000000;\n",
              "}\n",
              "#T_5aa04_row5_col3 {\n",
              "  background-color: #cfeb85;\n",
              "  color: #000000;\n",
              "}\n",
              "#T_5aa04_row6_col1 {\n",
              "  background-color: #91d068;\n",
              "  color: #000000;\n",
              "}\n",
              "#T_5aa04_row6_col2 {\n",
              "  background-color: #a0d669;\n",
              "  color: #000000;\n",
              "}\n",
              "#T_5aa04_row6_col3 {\n",
              "  background-color: #fdb567;\n",
              "  color: #000000;\n",
              "}\n",
              "#T_5aa04_row7_col2 {\n",
              "  background-color: #bfe47a;\n",
              "  color: #000000;\n",
              "}\n",
              "</style>\n",
              "<table id=\"T_5aa04_\" class=\"dataframe\">\n",
              "  <thead>\n",
              "    <tr>\n",
              "      <th class=\"blank level0\" >&nbsp;</th>\n",
              "      <th class=\"col_heading level0 col0\" >content</th>\n",
              "      <th class=\"col_heading level0 col1\" >textblob</th>\n",
              "      <th class=\"col_heading level0 col2\" >textblob_bayes</th>\n",
              "      <th class=\"col_heading level0 col3\" >nltk</th>\n",
              "    </tr>\n",
              "  </thead>\n",
              "  <tbody>\n",
              "    <tr>\n",
              "      <th id=\"T_5aa04_level0_row0\" class=\"row_heading level0 row0\" >0</th>\n",
              "      <td id=\"T_5aa04_row0_col0\" class=\"data row0 col0\" >I love love love love this kitten</td>\n",
              "      <td id=\"T_5aa04_row0_col1\" class=\"data row0 col1\" >0.500000</td>\n",
              "      <td id=\"T_5aa04_row0_col2\" class=\"data row0 col2\" >-0.087933</td>\n",
              "      <td id=\"T_5aa04_row0_col3\" class=\"data row0 col3\" >0.957100</td>\n",
              "    </tr>\n",
              "    <tr>\n",
              "      <th id=\"T_5aa04_level0_row1\" class=\"row_heading level0 row1\" >1</th>\n",
              "      <td id=\"T_5aa04_row1_col0\" class=\"data row1 col0\" >I hate hate hate hate this keyboard</td>\n",
              "      <td id=\"T_5aa04_row1_col1\" class=\"data row1 col1\" >-0.800000</td>\n",
              "      <td id=\"T_5aa04_row1_col2\" class=\"data row1 col2\" >-0.214151</td>\n",
              "      <td id=\"T_5aa04_row1_col3\" class=\"data row1 col3\" >-0.941300</td>\n",
              "    </tr>\n",
              "    <tr>\n",
              "      <th id=\"T_5aa04_level0_row2\" class=\"row_heading level0 row2\" >2</th>\n",
              "      <td id=\"T_5aa04_row2_col0\" class=\"data row2 col0\" >I'm not sure how I feel about toast</td>\n",
              "      <td id=\"T_5aa04_row2_col1\" class=\"data row2 col1\" >-0.250000</td>\n",
              "      <td id=\"T_5aa04_row2_col2\" class=\"data row2 col2\" >0.394659</td>\n",
              "      <td id=\"T_5aa04_row2_col3\" class=\"data row2 col3\" >-0.241100</td>\n",
              "    </tr>\n",
              "    <tr>\n",
              "      <th id=\"T_5aa04_level0_row3\" class=\"row_heading level0 row3\" >3</th>\n",
              "      <td id=\"T_5aa04_row3_col0\" class=\"data row3 col0\" >Did you see the baseball game yesterday?</td>\n",
              "      <td id=\"T_5aa04_row3_col1\" class=\"data row3 col1\" >-0.400000</td>\n",
              "      <td id=\"T_5aa04_row3_col2\" class=\"data row3 col2\" >0.613050</td>\n",
              "      <td id=\"T_5aa04_row3_col3\" class=\"data row3 col3\" >0.000000</td>\n",
              "    </tr>\n",
              "    <tr>\n",
              "      <th id=\"T_5aa04_level0_row4\" class=\"row_heading level0 row4\" >4</th>\n",
              "      <td id=\"T_5aa04_row4_col0\" class=\"data row4 col0\" >The package was delivered late and the contents were broken</td>\n",
              "      <td id=\"T_5aa04_row4_col1\" class=\"data row4 col1\" >-0.350000</td>\n",
              "      <td id=\"T_5aa04_row4_col2\" class=\"data row4 col2\" >-0.574270</td>\n",
              "      <td id=\"T_5aa04_row4_col3\" class=\"data row4 col3\" >-0.476700</td>\n",
              "    </tr>\n",
              "    <tr>\n",
              "      <th id=\"T_5aa04_level0_row5\" class=\"row_heading level0 row5\" >5</th>\n",
              "      <td id=\"T_5aa04_row5_col0\" class=\"data row5 col0\" >Trashy television shows are some of my favorites</td>\n",
              "      <td id=\"T_5aa04_row5_col1\" class=\"data row5 col1\" >0.000000</td>\n",
              "      <td id=\"T_5aa04_row5_col2\" class=\"data row5 col2\" >0.040076</td>\n",
              "      <td id=\"T_5aa04_row5_col3\" class=\"data row5 col3\" >0.421500</td>\n",
              "    </tr>\n",
              "    <tr>\n",
              "      <th id=\"T_5aa04_level0_row6\" class=\"row_heading level0 row6\" >6</th>\n",
              "      <td id=\"T_5aa04_row6_col0\" class=\"data row6 col0\" >I'm seeing a Kubrick film tomorrow, I hear not so great things about it.</td>\n",
              "      <td id=\"T_5aa04_row6_col1\" class=\"data row6 col1\" >0.800000</td>\n",
              "      <td id=\"T_5aa04_row6_col2\" class=\"data row6 col2\" >0.717875</td>\n",
              "      <td id=\"T_5aa04_row6_col3\" class=\"data row6 col3\" >-0.629600</td>\n",
              "    </tr>\n",
              "    <tr>\n",
              "      <th id=\"T_5aa04_level0_row7\" class=\"row_heading level0 row7\" >7</th>\n",
              "      <td id=\"T_5aa04_row7_col0\" class=\"data row7 col0\" >I find chirping birds iritating, but I know I'm not the only one</td>\n",
              "      <td id=\"T_5aa04_row7_col1\" class=\"data row7 col1\" >0.000000</td>\n",
              "      <td id=\"T_5aa04_row7_col2\" class=\"data row7 col2\" >0.518763</td>\n",
              "      <td id=\"T_5aa04_row7_col3\" class=\"data row7 col3\" >0.000000</td>\n",
              "    </tr>\n",
              "  </tbody>\n",
              "</table>\n"
            ]
          },
          "metadata": {},
          "execution_count": 14
        }
      ]
    }
  ]
}