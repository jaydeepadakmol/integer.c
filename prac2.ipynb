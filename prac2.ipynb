{
  "nbformat": 4,
  "nbformat_minor": 0,
  "metadata": {
    "colab": {
      "name": "prac2.ipynb",
      "provenance": [],
      "collapsed_sections": []
    },
    "kernelspec": {
      "name": "python3",
      "display_name": "Python 3"
    },
    "language_info": {
      "name": "python"
    }
  },
  "cells": [
    {
      "cell_type": "markdown",
      "source": [
        "Page Rank for link analysis using python \n",
        "Create a small set of pages namely page1, page2, page3 and page4 apply \n",
        "random walk on the same."
      ],
      "metadata": {
        "id": "zaSwF0jw_Lul"
      }
    },
    {
      "cell_type": "code",
      "execution_count": null,
      "metadata": {
        "id": "pM0kQgPFzP6R"
      },
      "outputs": [],
      "source": [
        "import networkx as nx\n",
        "import random\n",
        "import numpy as np"
      ]
    },
    {
      "cell_type": "code",
      "source": [
        "def add_edges(g, pr):\n",
        "\tfor each in g.nodes():\n",
        "\t\tfor each1 in g.nodes():\n",
        "\t\t\tif (each != each1):\n",
        "\t\t\t\tra = random.random()\n",
        "\t\t\t\tif (ra < pr):\n",
        "\t\t\t\t\tg.add_edge(each, each1)\n",
        "\t\t\t\telse:\n",
        "\t\t\t\t\tcontinue\n",
        "\treturn g"
      ],
      "metadata": {
        "id": "KwHsKiCwzrYd"
      },
      "execution_count": null,
      "outputs": []
    },
    {
      "cell_type": "code",
      "source": [
        "def nodes_sorted(g, points):\n",
        "    t = np.array(points)\n",
        "    t = np.argsort(-t)\n",
        "    return t"
      ],
      "metadata": {
        "id": "3SAPxf9jzy9j"
      },
      "execution_count": null,
      "outputs": []
    },
    {
      "cell_type": "code",
      "source": [
        "def random_Walk(g):\n",
        "\trwp = [0 for i in range(g.number_of_nodes())]\n",
        "\tnodes = list(g.nodes())\n",
        "\tr = random.choice(nodes)\n",
        "\trwp[r] += 1\n",
        "\tneigh = list(g.out_edges(r))\n",
        "\tz = 0\n",
        "\t\n",
        "\twhile (z != 10000):\n",
        "\t\tif (len(neigh) == 0):\n",
        "\t\t\tfocus = random.choice(nodes)\n",
        "\t\telse:\n",
        "\t\t\tr1 = random.choice(neigh)\n",
        "\t\t\tfocus = r1[1]\n",
        "\t\trwp[focus] += 1\n",
        "\t\tneigh = list(g.out_edges(focus))\n",
        "\t\tz += 1\n",
        "\treturn rwp"
      ],
      "metadata": {
        "id": "CZpIDN47z28C"
      },
      "execution_count": null,
      "outputs": []
    },
    {
      "cell_type": "code",
      "source": [
        "g = nx.DiGraph()\n",
        "N = 4\n",
        "g.add_nodes_from(range(N))\n",
        "\n",
        "# 2. Add directed edges in graph\n",
        "g = add_edges(g, 0.4)\n",
        "\n",
        "# 3. perform a random walk\n",
        "points = random_Walk(g)\n",
        "\n",
        "# 4. Get nodes rank according to their random walk points\n",
        "sorted_by_points = nodes_sorted(g, points)\n",
        "print(\"PageRank using Random Walk Method\")\n",
        "print(sorted_by_points)"
      ],
      "metadata": {
        "colab": {
          "base_uri": "https://localhost:8080/"
        },
        "id": "dYe9hwsyz8Vc",
        "outputId": "7494dbc2-75fd-4bd3-9c60-d15a42141bb9"
      },
      "execution_count": null,
      "outputs": [
        {
          "output_type": "stream",
          "name": "stdout",
          "text": [
            "PageRank using Random Walk Method\n",
            "[0 2 1 3]\n"
          ]
        }
      ]
    },
    {
      "cell_type": "code",
      "source": [
        "p_dict = nx.pagerank(g)\n",
        "p_sort = sorted(p_dict.items(), key=lambda x: x[1], reverse=True)\n",
        "\n",
        "print(\"PageRank using inbuilt pagerank method\")\n",
        "for i in p_sort:\n",
        "    print(i[0], end=\", \")"
      ],
      "metadata": {
        "colab": {
          "base_uri": "https://localhost:8080/"
        },
        "id": "X25Cd2yv0EqT",
        "outputId": "093192b0-ded4-4628-ad47-271809e90037"
      },
      "execution_count": null,
      "outputs": [
        {
          "output_type": "stream",
          "name": "stdout",
          "text": [
            "PageRank using inbuilt pagerank method\n",
            "0, 2, 1, 3, "
          ]
        }
      ]
    }
  ]
}